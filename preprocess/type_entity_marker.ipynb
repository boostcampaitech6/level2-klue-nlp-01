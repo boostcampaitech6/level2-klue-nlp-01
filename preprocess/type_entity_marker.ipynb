{
 "cells": [
  {
   "cell_type": "code",
   "execution_count": 1,
   "metadata": {},
   "outputs": [
    {
     "data": {
      "text/plain": [
       "True"
      ]
     },
     "execution_count": 1,
     "metadata": {},
     "output_type": "execute_result"
    }
   ],
   "source": [
    "import torch\n",
    "torch.cuda.is_available()"
   ]
  },
  {
   "cell_type": "code",
   "execution_count": 2,
   "metadata": {},
   "outputs": [],
   "source": [
    "import pandas as pd\n",
    "\n",
    "df_train = pd.read_csv('../dataset/train/train.csv')\n",
    "df_test = pd.read_csv('../dataset/test/test_data.csv')"
   ]
  },
  {
   "cell_type": "code",
   "execution_count": null,
   "metadata": {},
   "outputs": [],
   "source": [
    "import ast\n",
    "\n",
    "\n",
    "def replace_string_index(sentence,subj_start,subj_end,subj_type,subj_word,obj_start,obj_end,obj_type,obj_word):\n",
    "    tag_subj=f\"<S:{subj_type}> {subj_word} </S:{subj_type}>\"\n",
    "    tag_obj=f\"<O:{obj_type}> {obj_word} </O:{obj_type}>\"\n",
    "\n",
    "    if subj_start<obj_start:\n",
    "        return sentence[:subj_start] + tag_subj + sentence[subj_end+1:obj_start] + tag_obj + sentence[obj_end+1:]\n",
    "    else:\n",
    "        return sentence[:obj_start] + tag_obj + sentence[obj_end+1:subj_start] + tag_subj + sentence[subj_end+1:]\n",
    "\n",
    "\n",
    "def get_typed_entity_marker(df):\n",
    "    \"\"\"\n",
    "    모든 label에 대해 Typed Entity Marker 진행\n",
    "    \"\"\"\n",
    "\n",
    "    sentence, label = df['sentence'].tolist(),df['label'].tolist()\n",
    "    subject_entity, object_entity = df['subject_entity'].tolist(),df['object_entity'].tolist()\n",
    "    sentence_masked=[]\n",
    "\n",
    "    for i in range(len(label)):\n",
    "        dict_subj, dict_obj = ast.literal_eval(subject_entity[i]),ast.literal_eval(object_entity[i])\n",
    "        subj_start,subj_end,subj_type,subj_word = dict_subj['start_idx'],dict_subj['end_idx'],dict_subj['type'],dict_subj['word']\n",
    "        obj_start,obj_end,obj_type,obj_word = dict_obj['start_idx'],dict_obj['end_idx'],dict_obj['type'],dict_obj['word']\n",
    "\n",
    "        sentence_masked.append(replace_string_index(sentence[i],subj_start,subj_end,subj_type,subj_word,\n",
    "                                                    obj_start,obj_end,obj_type,obj_word))\n",
    "\n",
    "    return sentence_masked"
   ]
  },
  {
   "cell_type": "code",
   "execution_count": null,
   "metadata": {},
   "outputs": [],
   "source": [
    "sentence_masked=get_typed_entity_marker(df_train)\n",
    "\n",
    "df_train_tem=df_train.copy()\n",
    "df_train_tem['sentence']=sentence_masked"
   ]
  },
  {
   "cell_type": "code",
   "execution_count": null,
   "metadata": {},
   "outputs": [],
   "source": [
    "import os\n",
    "import sys\n",
    "\n",
    "cwd = os.getcwd()\n",
    "sys.path.append(os.path.abspath(os.path.join(cwd, os.pardir)))"
   ]
  },
  {
   "cell_type": "code",
   "execution_count": null,
   "metadata": {},
   "outputs": [],
   "source": [
    "from utils import train_valid_split\n",
    "\n",
    "df_train_em,df_test_em=train_valid_split(df_train_tem)\n",
    "df_train_em.to_csv('../dataset/train/train-v.0.1.1.csv')\n",
    "df_train_em.to_csv('../dataset/dev/dev-v.0.1.1.csv')"
   ]
  },
  {
   "cell_type": "code",
   "execution_count": null,
   "metadata": {},
   "outputs": [],
   "source": []
  },
  {
   "cell_type": "code",
   "execution_count": null,
   "metadata": {},
   "outputs": [],
   "source": []
  },
  {
   "cell_type": "code",
   "execution_count": null,
   "metadata": {},
   "outputs": [],
   "source": []
  }
 ],
 "metadata": {
  "kernelspec": {
   "display_name": "base",
   "language": "python",
   "name": "python3"
  },
  "language_info": {
   "codemirror_mode": {
    "name": "ipython",
    "version": 3
   },
   "file_extension": ".py",
   "mimetype": "text/x-python",
   "name": "python",
   "nbconvert_exporter": "python",
   "pygments_lexer": "ipython3",
   "version": "3.8.5"
  }
 },
 "nbformat": 4,
 "nbformat_minor": 2
}
