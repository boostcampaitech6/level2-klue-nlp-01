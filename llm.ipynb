{
 "cells": [
  {
   "cell_type": "code",
   "execution_count": 3,
   "metadata": {},
   "outputs": [],
   "source": [
    "# !pip uninstall -y torch \n",
    "# !pip install -U torch==2.0.0 \n",
    "# !pip install -U transformers==4.33 \n",
    "# !pip install accelerate==0.23\n",
    "# !pip install typing_extensions"
   ]
  },
  {
   "cell_type": "code",
   "execution_count": 10,
   "metadata": {},
   "outputs": [],
   "source": [
    "import pandas as pd\n",
    "import torch\n",
    "\n",
    "from settings import *\n",
    "import os \n",
    "from transformers import pipeline, AutoModelForCausalLM"
   ]
  },
  {
   "cell_type": "code",
   "execution_count": 98,
   "metadata": {},
   "outputs": [
    {
     "data": {
      "application/vnd.jupyter.widget-view+json": {
       "model_id": "63e817d3d8ee4a22baa904765acdb399",
       "version_major": 2,
       "version_minor": 0
      },
      "text/plain": [
       "HBox(children=(HTML(value='Loading checkpoint shards'), FloatProgress(value=0.0, max=13.0), HTML(value='')))"
      ]
     },
     "metadata": {},
     "output_type": "display_data"
    },
    {
     "name": "stdout",
     "output_type": "stream",
     "text": [
      "\n"
     ]
    }
   ],
   "source": [
    "MODEL = 'beomi/KoAlpaca-Polyglot-5.8B'\n",
    "\n",
    "model = AutoModelForCausalLM.from_pretrained(\n",
    "    MODEL,\n",
    "    cache_dir=os.path.join(BASE_DIR),\n",
    "    torch_dtype=torch.float16,\n",
    "    low_cpu_mem_usage=True,\n",
    ").to('cuda:0')"
   ]
  },
  {
   "cell_type": "code",
   "execution_count": 112,
   "metadata": {},
   "outputs": [],
   "source": [
    "import re \n",
    "pipe = pipeline(\n",
    "    'text-generation', \n",
    "    model=model,\n",
    "    tokenizer=MODEL, \n",
    "    device=0\n",
    ")\n",
    "\n",
    "def ask(x, sbj_entity, obj_entity):\n",
    "    ans = pipe(\n",
    "        f\"#### 질문:\\n 문장'{re.sub('^[가-힣ㄱ-ㅎㅏ-ㅣ ]', '', x)}'에서 {sbj_entity}랑 {obj_entity}는 수정하지 말고, 기존 문장을 최대한 유지하면서, 유사한 문장을 만들어줘.\" + \"\\n\\n #### 답변: \\n\", \n",
    "        do_sample=True, \n",
    "        max_new_tokens=256,\n",
    "        temperature=0.5,\n",
    "        top_p=0.9,\n",
    "        return_full_text=False,\n",
    "        eos_token_id=2\n",
    "    )\n",
    "    return ans[0]['generated_text']"
   ]
  },
  {
   "cell_type": "code",
   "execution_count": 113,
   "metadata": {},
   "outputs": [],
   "source": [
    "train_set = pd.read_csv(os.path.join(DATA_DIR, 'train-v.0.0.2.csv'))"
   ]
  },
  {
   "cell_type": "code",
   "execution_count": 114,
   "metadata": {},
   "outputs": [],
   "source": [
    "from ast import literal_eval\n",
    "train_set.loc[:, 'subject_entity'] = train_set.loc[:, 'subject_entity'].apply(lambda x: literal_eval(x)['word'])\n",
    "train_set.loc[:, 'object_entity'] = train_set.loc[:, 'object_entity'].apply(lambda x: literal_eval(x)['word'])"
   ]
  },
  {
   "cell_type": "code",
   "execution_count": 115,
   "metadata": {},
   "outputs": [
    {
     "name": "stderr",
     "output_type": "stream",
     "text": [
      "Setting `pad_token_id` to `eos_token_id`:2 for open-end generation.\n"
     ]
    },
    {
     "name": "stdout",
     "output_type": "stream",
     "text": [
      "subject entity\n",
      "Origin Sentence: 추승우(秋承佑, 1979년 9월 24일 ~)는 전 KBO 리그 한화 이글스의 외야수이자, 현재 KBO 리그 한화 이글스의 작전·주루 및 외야수 수비 코치이다.\n",
      "\n",
      "Generate Sentence: \"가을에는 야구의 맛이 최고입니다. 선수들이 높은 하늘과 푸른 바다를 배경으로 플레이하는 모습이 정말 아름답습니다. 또한, 그라운드에서는 다양한 스포츠가 이루어지며, 야구를 즐기는 것이 인생에서 가장 좋은 경험 중 하나입니다.\"\n"
     ]
    }
   ],
   "source": [
    "for idx, rows in train_set.iterrows():\n",
    "    x, sbj, obj, label = rows['sentence'], rows['subject_entity'], rows['object_entity'], rows['label']\n",
    "    outs = ask(x, sbj, obj) \n",
    "    print('subject entity')\n",
    "    print(f'Origin Sentence: {x}\\n')\n",
    "    print(f'Generate Sentence: {outs}')\n",
    "    break "
   ]
  },
  {
   "cell_type": "code",
   "execution_count": null,
   "metadata": {},
   "outputs": [],
   "source": []
  }
 ],
 "metadata": {
  "kernelspec": {
   "display_name": "base",
   "language": "python",
   "name": "python3"
  },
  "language_info": {
   "codemirror_mode": {
    "name": "ipython",
    "version": 3
   },
   "file_extension": ".py",
   "mimetype": "text/x-python",
   "name": "python",
   "nbconvert_exporter": "python",
   "pygments_lexer": "ipython3",
   "version": "3.8.5"
  }
 },
 "nbformat": 4,
 "nbformat_minor": 2
}
